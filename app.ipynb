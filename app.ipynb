{
  "nbformat": 4,
  "nbformat_minor": 0,
  "metadata": {
    "colab": {
      "provenance": [],
      "include_colab_link": true
    },
    "kernelspec": {
      "name": "python3",
      "display_name": "Python 3"
    },
    "language_info": {
      "name": "python"
    }
  },
  "cells": [
    {
      "cell_type": "markdown",
      "metadata": {
        "id": "view-in-github",
        "colab_type": "text"
      },
      "source": [
        "<a href=\"https://colab.research.google.com/github/jonathandevrinno/FP-DAMIN2024/blob/main/app.ipynb\" target=\"_parent\"><img src=\"https://colab.research.google.com/assets/colab-badge.svg\" alt=\"Open In Colab\"/></a>"
      ]
    },
    {
      "cell_type": "markdown",
      "source": [
        "#Import Libraries"
      ],
      "metadata": {
        "id": "1_s1HwnatovU"
      }
    },
    {
      "cell_type": "code",
      "execution_count": null,
      "metadata": {
        "id": "zeCpCi1PaDjr"
      },
      "outputs": [],
      "source": [
        "import numpy as np\n",
        "import pandas as pd\n",
        "import requests\n",
        "from bs4 import BeautifulSoup"
      ]
    },
    {
      "cell_type": "markdown",
      "source": [
        "#Data Scrapping"
      ],
      "metadata": {
        "id": "xu6k16Qqtr_m"
      }
    },
    {
      "cell_type": "code",
      "source": [
        "def scrape_books():\n",
        "    base_url = \"https://books.toscrape.com/catalogue/\"\n",
        "    start_url = \"https://books.toscrape.com/catalogue/page-1.html\"\n",
        "\n",
        "    books_data = []\n",
        "    max_books = 400\n",
        "\n",
        "    while start_url and len(books_data) < max_books:\n",
        "        print(f\"Scraping: {start_url}\")\n",
        "        response = requests.get(start_url)\n",
        "        soup = BeautifulSoup(response.text, 'html.parser')\n",
        "\n",
        "        # Extract book data from the current page\n",
        "        for book in soup.find_all('article', class_='product_pod'):\n",
        "            if len(books_data) >= max_books:\n",
        "                break\n",
        "\n",
        "            title = book.h3.a['title']\n",
        "            price = book.find('p', class_='price_color').text[1:].replace('Â', '').strip()  # Remove the currency symbol and clean text\n",
        "            rating = book.p['class'][1]  # Rating is in the second class attribute\n",
        "            availability = book.find('p', class_='instock availability').text.strip()\n",
        "\n",
        "            # Append book data to the list\n",
        "            books_data.append({\n",
        "                'Title': title,\n",
        "                'Price': float(price.replace('£', '')),\n",
        "                'Rating': rating,\n",
        "                'Availability': availability\n",
        "            })\n",
        "\n",
        "        # Find the next page link\n",
        "        next_page = soup.find('li', class_='next')\n",
        "        if next_page:\n",
        "            next_url = next_page.a['href']\n",
        "            start_url = base_url + next_url\n",
        "        else:\n",
        "            start_url = None\n",
        "\n",
        "    # Convert to DataFrame for easier manipulation\n",
        "    books_df = pd.DataFrame(books_data)\n",
        "    return books_df\n",
        "\n",
        "# Scrape data and save to a CSV file\n",
        "books_df = scrape_books()\n",
        "books_df.to_csv('books_data.csv', index=False)\n"
      ],
      "metadata": {
        "colab": {
          "base_uri": "https://localhost:8080/"
        },
        "id": "AnAxhTGngPI5",
        "outputId": "f9e02cf8-d0fd-4424-ba7f-8fa4904915d2"
      },
      "execution_count": null,
      "outputs": [
        {
          "output_type": "stream",
          "name": "stdout",
          "text": [
            "Scraping: https://books.toscrape.com/catalogue/page-1.html\n",
            "Scraping: https://books.toscrape.com/catalogue/page-2.html\n",
            "Scraping: https://books.toscrape.com/catalogue/page-3.html\n",
            "Scraping: https://books.toscrape.com/catalogue/page-4.html\n",
            "Scraping: https://books.toscrape.com/catalogue/page-5.html\n",
            "Scraping: https://books.toscrape.com/catalogue/page-6.html\n",
            "Scraping: https://books.toscrape.com/catalogue/page-7.html\n",
            "Scraping: https://books.toscrape.com/catalogue/page-8.html\n",
            "Scraping: https://books.toscrape.com/catalogue/page-9.html\n",
            "Scraping: https://books.toscrape.com/catalogue/page-10.html\n",
            "Scraping: https://books.toscrape.com/catalogue/page-11.html\n",
            "Scraping: https://books.toscrape.com/catalogue/page-12.html\n",
            "Scraping: https://books.toscrape.com/catalogue/page-13.html\n",
            "Scraping: https://books.toscrape.com/catalogue/page-14.html\n",
            "Scraping: https://books.toscrape.com/catalogue/page-15.html\n",
            "Scraping: https://books.toscrape.com/catalogue/page-16.html\n",
            "Scraping: https://books.toscrape.com/catalogue/page-17.html\n",
            "Scraping: https://books.toscrape.com/catalogue/page-18.html\n",
            "Scraping: https://books.toscrape.com/catalogue/page-19.html\n",
            "Scraping: https://books.toscrape.com/catalogue/page-20.html\n"
          ]
        }
      ]
    },
    {
      "cell_type": "code",
      "source": [
        "from google.colab import files\n",
        "files.download('books_data.csv')"
      ],
      "metadata": {
        "colab": {
          "base_uri": "https://localhost:8080/",
          "height": 17
        },
        "id": "GueGecMbd9_c",
        "outputId": "3992c07d-cf82-46f6-b24e-fea3d3c243a1"
      },
      "execution_count": null,
      "outputs": [
        {
          "output_type": "display_data",
          "data": {
            "text/plain": [
              "<IPython.core.display.Javascript object>"
            ],
            "application/javascript": [
              "\n",
              "    async function download(id, filename, size) {\n",
              "      if (!google.colab.kernel.accessAllowed) {\n",
              "        return;\n",
              "      }\n",
              "      const div = document.createElement('div');\n",
              "      const label = document.createElement('label');\n",
              "      label.textContent = `Downloading \"${filename}\": `;\n",
              "      div.appendChild(label);\n",
              "      const progress = document.createElement('progress');\n",
              "      progress.max = size;\n",
              "      div.appendChild(progress);\n",
              "      document.body.appendChild(div);\n",
              "\n",
              "      const buffers = [];\n",
              "      let downloaded = 0;\n",
              "\n",
              "      const channel = await google.colab.kernel.comms.open(id);\n",
              "      // Send a message to notify the kernel that we're ready.\n",
              "      channel.send({})\n",
              "\n",
              "      for await (const message of channel.messages) {\n",
              "        // Send a message to notify the kernel that we're ready.\n",
              "        channel.send({})\n",
              "        if (message.buffers) {\n",
              "          for (const buffer of message.buffers) {\n",
              "            buffers.push(buffer);\n",
              "            downloaded += buffer.byteLength;\n",
              "            progress.value = downloaded;\n",
              "          }\n",
              "        }\n",
              "      }\n",
              "      const blob = new Blob(buffers, {type: 'application/binary'});\n",
              "      const a = document.createElement('a');\n",
              "      a.href = window.URL.createObjectURL(blob);\n",
              "      a.download = filename;\n",
              "      div.appendChild(a);\n",
              "      a.click();\n",
              "      div.remove();\n",
              "    }\n",
              "  "
            ]
          },
          "metadata": {}
        },
        {
          "output_type": "display_data",
          "data": {
            "text/plain": [
              "<IPython.core.display.Javascript object>"
            ],
            "application/javascript": [
              "download(\"download_6f34cfb8-ac9e-4238-a1bd-d600c17a8a00\", \"books_data.csv\", 25280)"
            ]
          },
          "metadata": {}
        }
      ]
    },
    {
      "cell_type": "markdown",
      "source": [
        "#Load Data"
      ],
      "metadata": {
        "id": "g36xJWMNjEXA"
      }
    },
    {
      "cell_type": "code",
      "source": [
        "df = pd.read_csv('books_data.csv')\n",
        "df.head()"
      ],
      "metadata": {
        "colab": {
          "base_uri": "https://localhost:8080/",
          "height": 206
        },
        "id": "cH1kdvU0jFl8",
        "outputId": "b4c97931-7d5e-43e5-ad8c-702ba55b397f"
      },
      "execution_count": null,
      "outputs": [
        {
          "output_type": "execute_result",
          "data": {
            "text/plain": [
              "                                   Title  Price Rating Availability\n",
              "0                   A Light in the Attic  51.77  Three     In stock\n",
              "1                     Tipping the Velvet  53.74    One     In stock\n",
              "2                             Soumission  50.10    One     In stock\n",
              "3                          Sharp Objects  47.82   Four     In stock\n",
              "4  Sapiens: A Brief History of Humankind  54.23   Five     In stock"
            ],
            "text/html": [
              "\n",
              "  <div id=\"df-556d41ca-7e86-459c-b7ae-963f2029dbc8\" class=\"colab-df-container\">\n",
              "    <div>\n",
              "<style scoped>\n",
              "    .dataframe tbody tr th:only-of-type {\n",
              "        vertical-align: middle;\n",
              "    }\n",
              "\n",
              "    .dataframe tbody tr th {\n",
              "        vertical-align: top;\n",
              "    }\n",
              "\n",
              "    .dataframe thead th {\n",
              "        text-align: right;\n",
              "    }\n",
              "</style>\n",
              "<table border=\"1\" class=\"dataframe\">\n",
              "  <thead>\n",
              "    <tr style=\"text-align: right;\">\n",
              "      <th></th>\n",
              "      <th>Title</th>\n",
              "      <th>Price</th>\n",
              "      <th>Rating</th>\n",
              "      <th>Availability</th>\n",
              "    </tr>\n",
              "  </thead>\n",
              "  <tbody>\n",
              "    <tr>\n",
              "      <th>0</th>\n",
              "      <td>A Light in the Attic</td>\n",
              "      <td>51.77</td>\n",
              "      <td>Three</td>\n",
              "      <td>In stock</td>\n",
              "    </tr>\n",
              "    <tr>\n",
              "      <th>1</th>\n",
              "      <td>Tipping the Velvet</td>\n",
              "      <td>53.74</td>\n",
              "      <td>One</td>\n",
              "      <td>In stock</td>\n",
              "    </tr>\n",
              "    <tr>\n",
              "      <th>2</th>\n",
              "      <td>Soumission</td>\n",
              "      <td>50.10</td>\n",
              "      <td>One</td>\n",
              "      <td>In stock</td>\n",
              "    </tr>\n",
              "    <tr>\n",
              "      <th>3</th>\n",
              "      <td>Sharp Objects</td>\n",
              "      <td>47.82</td>\n",
              "      <td>Four</td>\n",
              "      <td>In stock</td>\n",
              "    </tr>\n",
              "    <tr>\n",
              "      <th>4</th>\n",
              "      <td>Sapiens: A Brief History of Humankind</td>\n",
              "      <td>54.23</td>\n",
              "      <td>Five</td>\n",
              "      <td>In stock</td>\n",
              "    </tr>\n",
              "  </tbody>\n",
              "</table>\n",
              "</div>\n",
              "    <div class=\"colab-df-buttons\">\n",
              "\n",
              "  <div class=\"colab-df-container\">\n",
              "    <button class=\"colab-df-convert\" onclick=\"convertToInteractive('df-556d41ca-7e86-459c-b7ae-963f2029dbc8')\"\n",
              "            title=\"Convert this dataframe to an interactive table.\"\n",
              "            style=\"display:none;\">\n",
              "\n",
              "  <svg xmlns=\"http://www.w3.org/2000/svg\" height=\"24px\" viewBox=\"0 -960 960 960\">\n",
              "    <path d=\"M120-120v-720h720v720H120Zm60-500h600v-160H180v160Zm220 220h160v-160H400v160Zm0 220h160v-160H400v160ZM180-400h160v-160H180v160Zm440 0h160v-160H620v160ZM180-180h160v-160H180v160Zm440 0h160v-160H620v160Z\"/>\n",
              "  </svg>\n",
              "    </button>\n",
              "\n",
              "  <style>\n",
              "    .colab-df-container {\n",
              "      display:flex;\n",
              "      gap: 12px;\n",
              "    }\n",
              "\n",
              "    .colab-df-convert {\n",
              "      background-color: #E8F0FE;\n",
              "      border: none;\n",
              "      border-radius: 50%;\n",
              "      cursor: pointer;\n",
              "      display: none;\n",
              "      fill: #1967D2;\n",
              "      height: 32px;\n",
              "      padding: 0 0 0 0;\n",
              "      width: 32px;\n",
              "    }\n",
              "\n",
              "    .colab-df-convert:hover {\n",
              "      background-color: #E2EBFA;\n",
              "      box-shadow: 0px 1px 2px rgba(60, 64, 67, 0.3), 0px 1px 3px 1px rgba(60, 64, 67, 0.15);\n",
              "      fill: #174EA6;\n",
              "    }\n",
              "\n",
              "    .colab-df-buttons div {\n",
              "      margin-bottom: 4px;\n",
              "    }\n",
              "\n",
              "    [theme=dark] .colab-df-convert {\n",
              "      background-color: #3B4455;\n",
              "      fill: #D2E3FC;\n",
              "    }\n",
              "\n",
              "    [theme=dark] .colab-df-convert:hover {\n",
              "      background-color: #434B5C;\n",
              "      box-shadow: 0px 1px 3px 1px rgba(0, 0, 0, 0.15);\n",
              "      filter: drop-shadow(0px 1px 2px rgba(0, 0, 0, 0.3));\n",
              "      fill: #FFFFFF;\n",
              "    }\n",
              "  </style>\n",
              "\n",
              "    <script>\n",
              "      const buttonEl =\n",
              "        document.querySelector('#df-556d41ca-7e86-459c-b7ae-963f2029dbc8 button.colab-df-convert');\n",
              "      buttonEl.style.display =\n",
              "        google.colab.kernel.accessAllowed ? 'block' : 'none';\n",
              "\n",
              "      async function convertToInteractive(key) {\n",
              "        const element = document.querySelector('#df-556d41ca-7e86-459c-b7ae-963f2029dbc8');\n",
              "        const dataTable =\n",
              "          await google.colab.kernel.invokeFunction('convertToInteractive',\n",
              "                                                    [key], {});\n",
              "        if (!dataTable) return;\n",
              "\n",
              "        const docLinkHtml = 'Like what you see? Visit the ' +\n",
              "          '<a target=\"_blank\" href=https://colab.research.google.com/notebooks/data_table.ipynb>data table notebook</a>'\n",
              "          + ' to learn more about interactive tables.';\n",
              "        element.innerHTML = '';\n",
              "        dataTable['output_type'] = 'display_data';\n",
              "        await google.colab.output.renderOutput(dataTable, element);\n",
              "        const docLink = document.createElement('div');\n",
              "        docLink.innerHTML = docLinkHtml;\n",
              "        element.appendChild(docLink);\n",
              "      }\n",
              "    </script>\n",
              "  </div>\n",
              "\n",
              "\n",
              "<div id=\"df-b7beae7a-32bd-4dc5-b879-e3254596383a\">\n",
              "  <button class=\"colab-df-quickchart\" onclick=\"quickchart('df-b7beae7a-32bd-4dc5-b879-e3254596383a')\"\n",
              "            title=\"Suggest charts\"\n",
              "            style=\"display:none;\">\n",
              "\n",
              "<svg xmlns=\"http://www.w3.org/2000/svg\" height=\"24px\"viewBox=\"0 0 24 24\"\n",
              "     width=\"24px\">\n",
              "    <g>\n",
              "        <path d=\"M19 3H5c-1.1 0-2 .9-2 2v14c0 1.1.9 2 2 2h14c1.1 0 2-.9 2-2V5c0-1.1-.9-2-2-2zM9 17H7v-7h2v7zm4 0h-2V7h2v10zm4 0h-2v-4h2v4z\"/>\n",
              "    </g>\n",
              "</svg>\n",
              "  </button>\n",
              "\n",
              "<style>\n",
              "  .colab-df-quickchart {\n",
              "      --bg-color: #E8F0FE;\n",
              "      --fill-color: #1967D2;\n",
              "      --hover-bg-color: #E2EBFA;\n",
              "      --hover-fill-color: #174EA6;\n",
              "      --disabled-fill-color: #AAA;\n",
              "      --disabled-bg-color: #DDD;\n",
              "  }\n",
              "\n",
              "  [theme=dark] .colab-df-quickchart {\n",
              "      --bg-color: #3B4455;\n",
              "      --fill-color: #D2E3FC;\n",
              "      --hover-bg-color: #434B5C;\n",
              "      --hover-fill-color: #FFFFFF;\n",
              "      --disabled-bg-color: #3B4455;\n",
              "      --disabled-fill-color: #666;\n",
              "  }\n",
              "\n",
              "  .colab-df-quickchart {\n",
              "    background-color: var(--bg-color);\n",
              "    border: none;\n",
              "    border-radius: 50%;\n",
              "    cursor: pointer;\n",
              "    display: none;\n",
              "    fill: var(--fill-color);\n",
              "    height: 32px;\n",
              "    padding: 0;\n",
              "    width: 32px;\n",
              "  }\n",
              "\n",
              "  .colab-df-quickchart:hover {\n",
              "    background-color: var(--hover-bg-color);\n",
              "    box-shadow: 0 1px 2px rgba(60, 64, 67, 0.3), 0 1px 3px 1px rgba(60, 64, 67, 0.15);\n",
              "    fill: var(--button-hover-fill-color);\n",
              "  }\n",
              "\n",
              "  .colab-df-quickchart-complete:disabled,\n",
              "  .colab-df-quickchart-complete:disabled:hover {\n",
              "    background-color: var(--disabled-bg-color);\n",
              "    fill: var(--disabled-fill-color);\n",
              "    box-shadow: none;\n",
              "  }\n",
              "\n",
              "  .colab-df-spinner {\n",
              "    border: 2px solid var(--fill-color);\n",
              "    border-color: transparent;\n",
              "    border-bottom-color: var(--fill-color);\n",
              "    animation:\n",
              "      spin 1s steps(1) infinite;\n",
              "  }\n",
              "\n",
              "  @keyframes spin {\n",
              "    0% {\n",
              "      border-color: transparent;\n",
              "      border-bottom-color: var(--fill-color);\n",
              "      border-left-color: var(--fill-color);\n",
              "    }\n",
              "    20% {\n",
              "      border-color: transparent;\n",
              "      border-left-color: var(--fill-color);\n",
              "      border-top-color: var(--fill-color);\n",
              "    }\n",
              "    30% {\n",
              "      border-color: transparent;\n",
              "      border-left-color: var(--fill-color);\n",
              "      border-top-color: var(--fill-color);\n",
              "      border-right-color: var(--fill-color);\n",
              "    }\n",
              "    40% {\n",
              "      border-color: transparent;\n",
              "      border-right-color: var(--fill-color);\n",
              "      border-top-color: var(--fill-color);\n",
              "    }\n",
              "    60% {\n",
              "      border-color: transparent;\n",
              "      border-right-color: var(--fill-color);\n",
              "    }\n",
              "    80% {\n",
              "      border-color: transparent;\n",
              "      border-right-color: var(--fill-color);\n",
              "      border-bottom-color: var(--fill-color);\n",
              "    }\n",
              "    90% {\n",
              "      border-color: transparent;\n",
              "      border-bottom-color: var(--fill-color);\n",
              "    }\n",
              "  }\n",
              "</style>\n",
              "\n",
              "  <script>\n",
              "    async function quickchart(key) {\n",
              "      const quickchartButtonEl =\n",
              "        document.querySelector('#' + key + ' button');\n",
              "      quickchartButtonEl.disabled = true;  // To prevent multiple clicks.\n",
              "      quickchartButtonEl.classList.add('colab-df-spinner');\n",
              "      try {\n",
              "        const charts = await google.colab.kernel.invokeFunction(\n",
              "            'suggestCharts', [key], {});\n",
              "      } catch (error) {\n",
              "        console.error('Error during call to suggestCharts:', error);\n",
              "      }\n",
              "      quickchartButtonEl.classList.remove('colab-df-spinner');\n",
              "      quickchartButtonEl.classList.add('colab-df-quickchart-complete');\n",
              "    }\n",
              "    (() => {\n",
              "      let quickchartButtonEl =\n",
              "        document.querySelector('#df-b7beae7a-32bd-4dc5-b879-e3254596383a button');\n",
              "      quickchartButtonEl.style.display =\n",
              "        google.colab.kernel.accessAllowed ? 'block' : 'none';\n",
              "    })();\n",
              "  </script>\n",
              "</div>\n",
              "\n",
              "    </div>\n",
              "  </div>\n"
            ],
            "application/vnd.google.colaboratory.intrinsic+json": {
              "type": "dataframe",
              "variable_name": "df",
              "summary": "{\n  \"name\": \"df\",\n  \"rows\": 400,\n  \"fields\": [\n    {\n      \"column\": \"Title\",\n      \"properties\": {\n        \"dtype\": \"string\",\n        \"num_unique_values\": 399,\n        \"samples\": [\n          \"Doing It Over (Most Likely To #1)\",\n          \"A Brush of Wings (Angels Walking #3)\",\n          \"The Bear and the Piano\"\n        ],\n        \"semantic_type\": \"\",\n        \"description\": \"\"\n      }\n    },\n    {\n      \"column\": \"Price\",\n      \"properties\": {\n        \"dtype\": \"number\",\n        \"std\": 14.526349663503423,\n        \"min\": 10.16,\n        \"max\": 59.9,\n        \"num_unique_values\": 384,\n        \"samples\": [\n          21.95,\n          13.92,\n          43.14\n        ],\n        \"semantic_type\": \"\",\n        \"description\": \"\"\n      }\n    },\n    {\n      \"column\": \"Rating\",\n      \"properties\": {\n        \"dtype\": \"category\",\n        \"num_unique_values\": 5,\n        \"samples\": [\n          \"One\",\n          \"Two\",\n          \"Four\"\n        ],\n        \"semantic_type\": \"\",\n        \"description\": \"\"\n      }\n    },\n    {\n      \"column\": \"Availability\",\n      \"properties\": {\n        \"dtype\": \"category\",\n        \"num_unique_values\": 1,\n        \"samples\": [\n          \"In stock\"\n        ],\n        \"semantic_type\": \"\",\n        \"description\": \"\"\n      }\n    }\n  ]\n}"
            }
          },
          "metadata": {},
          "execution_count": 27
        }
      ]
    },
    {
      "cell_type": "markdown",
      "source": [
        "#Preprocessing dan Pembersihan Data"
      ],
      "metadata": {
        "id": "gazUvl1nk_DY"
      }
    },
    {
      "cell_type": "code",
      "source": [
        "# Pembersihan dan Preprocessing Data\n",
        "\n",
        "def clean_and_preprocess_data(df):\n",
        "    # Menghapus kolom yang tidak informatif\n",
        "    if 'Availability' in df.columns:\n",
        "        df.drop(columns=['Availability'], inplace=True)\n",
        "\n",
        "    # Menangani duplikasi data\n",
        "    df.drop_duplicates(inplace=True)\n",
        "\n",
        "    # Mengubah kolom 'Rating' dari teks menjadi angka\n",
        "    rating_mapping = {\n",
        "        'One': 1,\n",
        "        'Two': 2,\n",
        "        'Three': 3,\n",
        "        'Four': 4,\n",
        "        'Five': 5\n",
        "    }\n",
        "    if 'Rating' in df.columns:\n",
        "        df['Rating'] = df['Rating'].map(rating_mapping)\n",
        "\n",
        "    # Menghapus baris dengan nilai NaN (jika ada setelah pemetaan)\n",
        "    df.dropna(inplace=True)\n",
        "\n",
        "    # Mengonversi kolom 'Price' menjadi tipe numerik jika belum\n",
        "    if df['Price'].dtype != 'float':\n",
        "        df['Price'] = pd.to_numeric(df['Price'], errors='coerce')\n",
        "\n",
        "    # Menghapus baris dengan nilai NaN (jika ada setelah konversi)\n",
        "    df.dropna(inplace=True)\n",
        "\n",
        "    return df\n",
        "\n",
        "# Membersihkan data\n",
        "cleaned_books_data = clean_and_preprocess_data(df)\n",
        "cleaned_books_data.info(), cleaned_books_data.head()"
      ],
      "metadata": {
        "colab": {
          "base_uri": "https://localhost:8080/"
        },
        "id": "m6rlVZs6of8C",
        "outputId": "9307d2a1-489a-4e5f-9ac7-960aeffb6621"
      },
      "execution_count": null,
      "outputs": [
        {
          "output_type": "stream",
          "name": "stdout",
          "text": [
            "<class 'pandas.core.frame.DataFrame'>\n",
            "RangeIndex: 400 entries, 0 to 399\n",
            "Data columns (total 3 columns):\n",
            " #   Column  Non-Null Count  Dtype  \n",
            "---  ------  --------------  -----  \n",
            " 0   Title   400 non-null    object \n",
            " 1   Price   400 non-null    float64\n",
            " 2   Rating  400 non-null    int64  \n",
            "dtypes: float64(1), int64(1), object(1)\n",
            "memory usage: 9.5+ KB\n"
          ]
        },
        {
          "output_type": "execute_result",
          "data": {
            "text/plain": [
              "(None,\n",
              "                                    Title  Price  Rating\n",
              " 0                   A Light in the Attic  51.77       3\n",
              " 1                     Tipping the Velvet  53.74       1\n",
              " 2                             Soumission  50.10       1\n",
              " 3                          Sharp Objects  47.82       4\n",
              " 4  Sapiens: A Brief History of Humankind  54.23       5)"
            ]
          },
          "metadata": {},
          "execution_count": 28
        }
      ]
    },
    {
      "cell_type": "markdown",
      "source": [
        "#Eksplorasi Data (EDA)"
      ],
      "metadata": {
        "id": "NB9ooa4uw5bF"
      }
    },
    {
      "cell_type": "code",
      "source": [
        "import matplotlib.pyplot as plt\n",
        "import seaborn as sns\n",
        "\n",
        "def perform_eda(df):\n",
        "    # Statistik Deskriptif\n",
        "    print(\"Statistik Deskriptif:\")\n",
        "    print(df.describe())\n",
        "\n",
        "    #Visualisasi harga buku\n",
        "    plt.figure(figsize=(12, 6))\n",
        "    #histogram harga buku\n",
        "    plt.subplot(1, 2, 1)\n",
        "    sns.histplot(df['Price'], bins=30, kde=True, color='blue')\n",
        "    plt.title('Distribusi Harga Buku')\n",
        "    plt.xlabel('Harga (£)')\n",
        "    plt.ylabel('Frekuensi')\n",
        "\n",
        "    #Boxplot harga buku\n",
        "    plt.subplot(1, 2, 2)\n",
        "    sns.boxplot(x=df['Price'], color='orange')\n",
        "    plt.title('Variasi Harga Buku')\n",
        "    plt.xlabel('Harga (£)')\n",
        "    plt.tight_layout()\n",
        "    plt.show()\n",
        "\n",
        "    #Analisis Distribusi Rating\n",
        "    plt.figure(figsize=(8, 6))\n",
        "    sns.countplot(x=df['Rating'], palette='viridis')\n",
        "    plt.title('Distribusi Rating Buku')\n",
        "    plt.xlabel('Rating')\n",
        "    plt.ylabel('Jumlah Buku')\n",
        "    plt.show()\n",
        "\n",
        "    #Korelasi Harga dan Rating\n",
        "    # Korelasi Harga dan Rating\n",
        "    plt.figure(figsize=(8, 6))\n",
        "    sns.scatterplot(x='Rating', y='Price', data=df, alpha=0.7, color='green')\n",
        "    plt.title('Korelasi Harga dan Rating Buku')\n",
        "    plt.xlabel('Rating')\n",
        "    plt.ylabel('Harga (£)')\n",
        "    plt.show()\n",
        "\n",
        "\n",
        "    #Korelasi numerik\n",
        "    correlation = df[['Price', 'Rating']].corr()\n",
        "    print(\"Korelasi Harga dan Rating:\")\n",
        "    print(correlation)\n",
        "\n",
        "# Jalankan EDA\n",
        "perform_eda(cleaned_books_data)\n",
        "\n"
      ],
      "metadata": {
        "colab": {
          "base_uri": "https://localhost:8080/",
          "height": 1000
        },
        "id": "BbZOKh6Qw7nB",
        "outputId": "4495482d-ed3b-491f-ea47-514dfcf5d120"
      },
      "execution_count": null,
      "outputs": [
        {
          "output_type": "stream",
          "name": "stdout",
          "text": [
            "Statistik Deskriptif:\n",
            "           Price     Rating\n",
            "count  400.00000  400.00000\n",
            "mean    34.95980    2.92250\n",
            "std     14.52635    1.42709\n",
            "min     10.16000    1.00000\n",
            "25%     21.93000    2.00000\n",
            "50%     36.80500    3.00000\n",
            "75%     47.68250    4.00000\n",
            "max     59.90000    5.00000\n"
          ]
        },
        {
          "output_type": "display_data",
          "data": {
            "text/plain": [
              "<Figure size 1200x600 with 2 Axes>"
            ],
            "image/png": "[encoded data removed]"
          },
          "metadata": {}
        },
        {
          "output_type": "stream",
          "name": "stderr",
          "text": [
            "<ipython-input-29-ef1cb34c4bac>:28: FutureWarning: \n",
            "\n",
            "Passing `palette` without assigning `hue` is deprecated and will be removed in v0.14.0. Assign the `x` variable to `hue` and set `legend=False` for the same effect.\n",
            "\n",
            "  sns.countplot(x=df['Rating'], palette='viridis')\n"
          ]
        },
        {
          "output_type": "display_data",
          "data": {
            "text/plain": [
              "<Figure size 800x600 with 1 Axes>"
            ],
            "image/png": "[encoded data removed]"
          },
          "metadata": {}
        },
        {
          "output_type": "display_data",
          "data": {
            "text/plain": [
              "<Figure size 800x600 with 1 Axes>"
            ],
            "image/png": "[encoded data removed]"
          },
          "metadata": {}
        },
        {
          "output_type": "stream",
          "name": "stdout",
          "text": [
            "Korelasi Harga dan Rating:\n",
            "           Price    Rating\n",
            "Price   1.000000  0.006754\n",
            "Rating  0.006754  1.000000\n"
          ]
        }
      ]
    },
    {
      "cell_type": "markdown",
      "source": [
        "#Scenarios"
      ],
      "metadata": {
        "id": "9q-ShIHSszxR"
      }
    },
    {
      "cell_type": "markdown",
      "source": [
        "##Skenario 1: Prediksi Harga Buku berdasarkan Rating (Regresi)\n",
        "- Algoritma 1: Linear Regression\n",
        "- Algoritma 2: Decision Tree Regression"
      ],
      "metadata": {
        "id": "2GnnjxSjI5WY"
      }
    },
    {
      "cell_type": "code",
      "source": [
        "from sklearn.model_selection import train_test_split\n",
        "from sklearn.linear_model import LinearRegression\n",
        "from sklearn.tree import DecisionTreeRegressor\n",
        "from sklearn.metrics import mean_squared_error, r2_score\n",
        "\n",
        "# Mengambil fitur dan target\n",
        "X = cleaned_books_data[['Rating']]  # Fitur: Rating\n",
        "y = cleaned_books_data['Price']    # Target: Harga\n",
        "\n",
        "# Membagi data menjadi data latih dan data uji\n",
        "X_train, X_test, y_train, y_test = train_test_split(X, y, test_size=0.2, random_state=42)"
      ],
      "metadata": {
        "id": "MAd6Cp2EJIOO"
      },
      "execution_count": null,
      "outputs": []
    },
    {
      "cell_type": "code",
      "source": [
        "# Model Linear Regression\n",
        "model_reg = LinearRegression()\n",
        "model_reg.fit(X_train, y_train)\n",
        "y_pred_reg = model_reg.predict(X_test)"
      ],
      "metadata": {
        "id": "-uGnacQuPwcQ"
      },
      "execution_count": null,
      "outputs": []
    },
    {
      "cell_type": "code",
      "source": [
        "# Evaluasi model Linear Regression\n",
        "mse_reg = mean_squared_error(y_test, y_pred_reg)\n",
        "r2_reg = r2_score(y_test, y_pred_reg)\n",
        "print(f\"Mean Squared Error (Linear Regression): {mse_reg}\")\n",
        "print(f\"R-squared (Linear Regression): {r2_reg}\")"
      ],
      "metadata": {
        "colab": {
          "base_uri": "https://localhost:8080/"
        },
        "id": "Du9hx2JxPxWx",
        "outputId": "9c8b2123-62bc-4dfc-8d82-ccd5b9a82406"
      },
      "execution_count": null,
      "outputs": [
        {
          "output_type": "stream",
          "name": "stdout",
          "text": [
            "Mean Squared Error (Linear Regression): 198.7848456062145\n",
            "R-squared (Linear Regression): -0.00251878089064439\n"
          ]
        }
      ]
    },
    {
      "cell_type": "code",
      "source": [
        "# Model Decision Tree Regression\n",
        "model_dt = DecisionTreeRegressor(random_state=42)\n",
        "model_dt.fit(X_train, y_train)\n",
        "y_pred_dt = model_dt.predict(X_test)"
      ],
      "metadata": {
        "id": "G0ZUJ2d_P1Tb"
      },
      "execution_count": null,
      "outputs": []
    },
    {
      "cell_type": "code",
      "source": [
        "# Evaluasi model Decision Tree Regression\n",
        "mse_dt = mean_squared_error(y_test, y_pred_dt)\n",
        "r2_dt = r2_score(y_test, y_pred_dt)\n",
        "print(f\"Mean Squared Error (Decision Tree Regression): {mse_dt}\")\n",
        "print(f\"R-squared (Decision Tree Regression): {r2_dt}\")"
      ],
      "metadata": {
        "colab": {
          "base_uri": "https://localhost:8080/"
        },
        "id": "EvR0EPADP3lj",
        "outputId": "2f77d178-8e7a-4e5d-b55d-06773257e696"
      },
      "execution_count": null,
      "outputs": [
        {
          "output_type": "stream",
          "name": "stdout",
          "text": [
            "Mean Squared Error (Decision Tree Regression): 200.2397351732083\n",
            "R-squared (Decision Tree Regression): -0.009856131535182167\n"
          ]
        }
      ]
    },
    {
      "cell_type": "markdown",
      "source": [
        "##Skenario 2: Prediksi Ketersediaan Stok (In Stock vs Out of Stock) (Klasifikasi)\n",
        "- Algoritma 1: Random Forest Classifier\n",
        "- Algoritma 2: Logistic Regression"
      ],
      "metadata": {
        "id": "tec6vITUJg28"
      }
    },
    {
      "cell_type": "code",
      "source": [
        "from sklearn.ensemble import RandomForestClassifier\n",
        "from sklearn.linear_model import LogisticRegression\n",
        "from sklearn.metrics import accuracy_score, classification_report, confusion_matrix\n",
        "from sklearn.model_selection import train_test_split\n",
        "\n",
        "# Misalnya kita membuat Availability berdasar harga buku\n",
        "cleaned_books_data['Availability'] = cleaned_books_data['Price'].apply(lambda x: 'In stock' if x > 50 else 'Out of stock')\n",
        "\n",
        "# Mengambil fitur dan target\n",
        "X_class = cleaned_books_data[['Price', 'Rating']]  # Fitur: Harga dan Rating\n",
        "y_class = cleaned_books_data['Availability']  # Target: Ketersediaan\n",
        "\n",
        "# Encode target (In stock / Out of stock) menjadi angka\n",
        "y_class = y_class.map({'In stock': 1, 'Out of stock': 0})\n",
        "\n",
        "# Membagi data menjadi data latih dan data uji\n",
        "X_train_class, X_test_class, y_train_class, y_test_class = train_test_split(X_class, y_class, test_size=0.2, random_state=42)"
      ],
      "metadata": {
        "id": "IgXlu127Jiim"
      },
      "execution_count": null,
      "outputs": []
    },
    {
      "cell_type": "code",
      "source": [
        "# Model Random Forest Classifier\n",
        "model_rf = RandomForestClassifier(random_state=42)\n",
        "model_rf.fit(X_train_class, y_train_class)\n",
        "y_pred_rf = model_rf.predict(X_test_class)"
      ],
      "metadata": {
        "id": "IEHJpjsLQVZv"
      },
      "execution_count": null,
      "outputs": []
    },
    {
      "cell_type": "code",
      "source": [
        "# Evaluasi model Random Forest\n",
        "accuracy_rf = accuracy_score(y_test_class, y_pred_rf)\n",
        "print(f\"Accuracy (Random Forest Classifier): {accuracy_rf}\")\n",
        "print(\"Classification Report (Random Forest):\\n\", classification_report(y_test_class, y_pred_rf))\n",
        "print(\"Confusion Matrix (Random Forest):\\n\", confusion_matrix(y_test_class, y_pred_rf))"
      ],
      "metadata": {
        "colab": {
          "base_uri": "https://localhost:8080/"
        },
        "id": "o6oNGW7qQXSK",
        "outputId": "ee5d64eb-2e08-4691-a8ac-7638e7f808f6"
      },
      "execution_count": null,
      "outputs": [
        {
          "output_type": "stream",
          "name": "stdout",
          "text": [
            "Accuracy (Random Forest Classifier): 1.0\n",
            "Classification Report (Random Forest):\n",
            "               precision    recall  f1-score   support\n",
            "\n",
            "           0       1.00      1.00      1.00        64\n",
            "           1       1.00      1.00      1.00        16\n",
            "\n",
            "    accuracy                           1.00        80\n",
            "   macro avg       1.00      1.00      1.00        80\n",
            "weighted avg       1.00      1.00      1.00        80\n",
            "\n",
            "Confusion Matrix (Random Forest):\n",
            " [[64  0]\n",
            " [ 0 16]]\n"
          ]
        }
      ]
    },
    {
      "cell_type": "code",
      "source": [
        "# Model Logistic Regression\n",
        "model_lr = LogisticRegression()\n",
        "model_lr.fit(X_train_class, y_train_class)\n",
        "y_pred_lr = model_lr.predict(X_test_class)"
      ],
      "metadata": {
        "id": "w3sCveTTQdFp"
      },
      "execution_count": null,
      "outputs": []
    },
    {
      "cell_type": "code",
      "source": [
        "# Evaluasi model Logistic Regression\n",
        "accuracy_lr = accuracy_score(y_test_class, y_pred_lr)\n",
        "print(f\"Accuracy (Logistic Regression): {accuracy_lr}\")\n",
        "print(\"Classification Report (Logistic Regression):\\n\", classification_report(y_test_class, y_pred_lr))\n",
        "print(\"Confusion Matrix (Logistic Regression):\\n\", confusion_matrix(y_test_class, y_pred_lr))"
      ],
      "metadata": {
        "colab": {
          "base_uri": "https://localhost:8080/"
        },
        "id": "tRvWvyBqQgqn",
        "outputId": "3ad6ce00-a1af-42e1-b9c8-25c3084620f2"
      },
      "execution_count": null,
      "outputs": [
        {
          "output_type": "stream",
          "name": "stdout",
          "text": [
            "Accuracy (Logistic Regression): 1.0\n",
            "Classification Report (Logistic Regression):\n",
            "               precision    recall  f1-score   support\n",
            "\n",
            "           0       1.00      1.00      1.00        64\n",
            "           1       1.00      1.00      1.00        16\n",
            "\n",
            "    accuracy                           1.00        80\n",
            "   macro avg       1.00      1.00      1.00        80\n",
            "weighted avg       1.00      1.00      1.00        80\n",
            "\n",
            "Confusion Matrix (Logistic Regression):\n",
            " [[64  0]\n",
            " [ 0 16]]\n"
          ]
        }
      ]
    },
    {
      "cell_type": "markdown",
      "source": [
        "##Skenario 3: Segmentasi Buku berdasarkan Harga dan Rating (Clustering)\n",
        "- Algoritma 1: K-Means Clustering\n",
        "- Algoritma 2: DBSCAN"
      ],
      "metadata": {
        "id": "TeXQmDmeJpr_"
      }
    },
    {
      "cell_type": "code",
      "source": [
        "from sklearn.cluster import KMeans, DBSCAN\n",
        "from sklearn.metrics import silhouette_score\n",
        "\n",
        "# Mengambil fitur untuk clustering\n",
        "X_clust = cleaned_books_data[['Price', 'Rating']]"
      ],
      "metadata": {
        "id": "3XrY1kCtJqDm"
      },
      "execution_count": null,
      "outputs": []
    },
    {
      "cell_type": "code",
      "source": [
        "# Model K-Means\n",
        "model_kmeans = KMeans(n_clusters=3, random_state=42)\n",
        "model_kmeans.fit(X_clust)\n",
        "labels_kmeans = model_kmeans.labels_"
      ],
      "metadata": {
        "id": "UkWVn8EDRtfy"
      },
      "execution_count": null,
      "outputs": []
    },
    {
      "cell_type": "code",
      "source": [
        "# Evaluasi K-Means dengan Silhouette Score\n",
        "sil_score_kmeans = silhouette_score(X_clust, labels_kmeans)\n",
        "print(f\"Silhouette Score (K-Means): {sil_score_kmeans}\")"
      ],
      "metadata": {
        "colab": {
          "base_uri": "https://localhost:8080/"
        },
        "id": "5x4YIpzqRwwr",
        "outputId": "629f3b90-7e61-4830-b67c-5c51d8c84ebc"
      },
      "execution_count": null,
      "outputs": [
        {
          "output_type": "stream",
          "name": "stdout",
          "text": [
            "Silhouette Score (K-Means): 0.5674657604940131\n"
          ]
        }
      ]
    },
    {
      "cell_type": "code",
      "source": [
        "# Model DBSCAN\n",
        "model_dbscan = DBSCAN(eps=0.5, min_samples=5)\n",
        "labels_dbscan = model_dbscan.fit_predict(X_clust)"
      ],
      "metadata": {
        "id": "3dnyA9eHRzPG"
      },
      "execution_count": null,
      "outputs": []
    },
    {
      "cell_type": "code",
      "source": [
        "# Evaluasi DBSCAN dengan Silhouette Score\n",
        "sil_score_dbscan = silhouette_score(X_clust, labels_dbscan)\n",
        "print(f\"Silhouette Score (DBSCAN): {sil_score_dbscan}\")"
      ],
      "metadata": {
        "colab": {
          "base_uri": "https://localhost:8080/"
        },
        "id": "xP4oscf3R1dh",
        "outputId": "3e85dd74-dbfa-4235-9b5c-b5cd50599b8f"
      },
      "execution_count": null,
      "outputs": [
        {
          "output_type": "stream",
          "name": "stdout",
          "text": [
            "Silhouette Score (DBSCAN): -0.5292953375193415\n"
          ]
        }
      ]
    },
    {
      "cell_type": "markdown",
      "source": [
        "##Skenario 4: Prediksi Harga Buku dengan KNN (K-Nearest Neighbors)\n",
        "- Algoritma 1: K-Nearest Neighbors (KNN)\n",
        "- Algoritma 2: Support Vector Machine (SVM)"
      ],
      "metadata": {
        "id": "I2c5_OlMT6BB"
      }
    },
    {
      "cell_type": "code",
      "source": [
        "from sklearn.neighbors import KNeighborsRegressor\n",
        "from sklearn.svm import SVR\n",
        "from sklearn.metrics import mean_squared_error, r2_score\n",
        "from sklearn.model_selection import train_test_split\n",
        "\n",
        "# Mengambil fitur dan target\n",
        "X_knn = cleaned_books_data[['Rating']]  # Fitur: Rating\n",
        "y_knn = cleaned_books_data['Price']    # Target: Harga\n",
        "\n",
        "# Membagi data menjadi data latih dan data uji\n",
        "X_train_knn, X_test_knn, y_train_knn, y_test_knn = train_test_split(X_knn, y_knn, test_size=0.2, random_state=42)"
      ],
      "metadata": {
        "id": "0GjOCg6sT9J7"
      },
      "execution_count": null,
      "outputs": []
    },
    {
      "cell_type": "code",
      "source": [
        "# Model K-Nearest Neighbors (KNN)\n",
        "model_knn = KNeighborsRegressor(n_neighbors=5)\n",
        "model_knn.fit(X_train_knn, y_train_knn)\n",
        "y_pred_knn = model_knn.predict(X_test_knn)"
      ],
      "metadata": {
        "id": "fh5C-oA_UI-M"
      },
      "execution_count": null,
      "outputs": []
    },
    {
      "cell_type": "code",
      "source": [
        "# Evaluasi model KNN\n",
        "mse_knn = mean_squared_error(y_test_knn, y_pred_knn)\n",
        "r2_knn = r2_score(y_test_knn, y_pred_knn)\n",
        "print(f\"Mean Squared Error (KNN): {mse_knn}\")\n",
        "print(f\"R-squared (KNN): {r2_knn}\")"
      ],
      "metadata": {
        "colab": {
          "base_uri": "https://localhost:8080/"
        },
        "id": "oMQR5V6yUKWt",
        "outputId": "5a44d455-ae88-40cc-f3ce-147bce9bf77f"
      },
      "execution_count": null,
      "outputs": [
        {
          "output_type": "stream",
          "name": "stdout",
          "text": [
            "Mean Squared Error (KNN): 246.28224520000003\n",
            "R-squared (KNN): -0.242059350449781\n"
          ]
        }
      ]
    },
    {
      "cell_type": "code",
      "source": [
        "# Model Support Vector Machine (SVM) for regression\n",
        "model_svm = SVR(kernel='linear')\n",
        "model_svm.fit(X_train_knn, y_train_knn)\n",
        "y_pred_svm = model_svm.predict(X_test_knn)"
      ],
      "metadata": {
        "id": "ZhjK8SjiURFg"
      },
      "execution_count": null,
      "outputs": []
    },
    {
      "cell_type": "code",
      "source": [
        "# Evaluasi model SVM\n",
        "mse_svm = mean_squared_error(y_test_knn, y_pred_svm)\n",
        "r2_svm = r2_score(y_test_knn, y_pred_svm)\n",
        "print(f\"Mean Squared Error (SVM): {mse_svm}\")\n",
        "print(f\"R-squared (SVM): {r2_svm}\")"
      ],
      "metadata": {
        "colab": {
          "base_uri": "https://localhost:8080/"
        },
        "id": "9ZkBKwSaUVTh",
        "outputId": "bc57a63a-2dd1-457b-b01a-6ce5350ac6ad"
      },
      "execution_count": null,
      "outputs": [
        {
          "output_type": "stream",
          "name": "stdout",
          "text": [
            "Mean Squared Error (SVM): 206.1470097222222\n",
            "R-squared (SVM): -0.0396479079716785\n"
          ]
        }
      ]
    },
    {
      "cell_type": "markdown",
      "source": [
        "#Penjelasan"
      ],
      "metadata": {
        "id": "rSjHg-DWvpr1"
      }
    },
    {
      "cell_type": "markdown",
      "source": [
        "### **Skenario 1: Prediksi Harga Buku Berdasarkan Hasil**\n",
        "**Penjelasan:**\n",
        "- Model regresi digunakan untuk memprediksi harga buku berdasarkan fitur-fitur yang ada dalam dataset seperti **Rating** dan **Ketersediaan**.\n",
        "- Model ini menggunakan algoritma regresi linier atau regresi lainnya (seperti Random Forest) untuk mempelajari hubungan antara fitur input dengan harga buku.\n",
        "\n",
        "**Hasil:**\n",
        "- Dataset dilatih untuk memprediksi nilai harga buku (`Price`) berdasarkan:\n",
        "  - Rating buku (`Rating`): Dikodekan ke dalam nilai numerik (misal, \"One\" menjadi 1, \"Two\" menjadi 2, dll.).\n",
        "  - Ketersediaan (`Availability`): Dikodekan secara biner (misalnya, \"In Stock\" = 1, \"Out of Stock\" = 0).\n",
        "- Output berupa prediksi harga buku baru berdasarkan model yang terlatih.\n",
        "\n",
        "### **Skenario 2: Prediksi Ketersediaan Stok (Klasifikasi)**\n",
        "**Penjelasan:**\n",
        "- Tujuannya adalah untuk memprediksi apakah sebuah buku akan berada dalam status **In Stock** atau **Out of Stock**.\n",
        "- Model klasifikasi seperti Logistic Regression, Random Forest, atau SVM digunakan.\n",
        "- Fitur yang digunakan untuk prediksi termasuk:\n",
        "  - **Price**: Harga buku.\n",
        "  - **Rating**: Peringkat buku.\n",
        "\n",
        "**Hasil:**\n",
        "- Dataset dilatih untuk memprediksi nilai `Availability` sebagai label biner (0 untuk \"Out of Stock\", 1 untuk \"In Stock\").\n",
        "- Evaluasi model dilakukan menggunakan metrik seperti akurasi, precision, recall, dan F1-score.\n",
        "\n",
        "### **Skenario 3: Segmentasi Buku Berdasarkan Harga dan Rating (Clustering)**\n",
        "**Penjelasan:**\n",
        "- Segmentasi dilakukan untuk mengelompokkan buku berdasarkan kesamaan dalam **Harga** dan **Rating**.\n",
        "- Algoritma clustering seperti K-Means digunakan untuk membentuk klaster buku.\n",
        "- Setiap klaster menunjukkan kelompok buku dengan pola serupa, misalnya buku murah dengan rating rendah atau buku mahal dengan rating tinggi.\n",
        "\n",
        "**Hasil:**\n",
        "- Dataset dikelompokkan ke dalam beberapa klaster (misalnya 3-5 klaster).\n",
        "- Visualisasi klaster dibuat menggunakan scatter plot untuk menunjukkan distribusi klaster berdasarkan harga dan rating.\n",
        "\n",
        "### **Skenario 5: Prediksi Harga Buku dengan KNN**\n",
        "**Penjelasan:**\n",
        "- Menggunakan algoritma K-Nearest Neighbors (KNN) untuk memprediksi harga buku berdasarkan data pelatihan.\n",
        "- Fitur yang digunakan untuk prediksi mencakup:\n",
        "  - **Rating**: Dikodekan secara numerik.\n",
        "  - **Availability**: Dikodekan sebagai nilai biner.\n",
        "\n",
        "**Hasil:**\n",
        "- Model mempelajari harga buku berdasarkan tetangga terdekat di ruang fitur.\n",
        "- KNN menghasilkan prediksi berdasarkan rata-rata harga dari tetangga terdekat."
      ],
      "metadata": {
        "id": "ubXUm-dpvtjo"
      }
    },
    {
      "cell_type": "markdown",
      "source": [
        "#Streamlit"
      ],
      "metadata": {
        "id": "XJDcfIOWwJse"
      }
    },
    {
      "cell_type": "code",
      "source": [
        "import streamlit as st\n",
        "\n",
        "# Konfigurasi halaman Streamlit\n",
        "st.set_page_config(page_title=\"Dashboard Buku - Books to Scrape\", layout=\"wide\")\n",
        "st.title(\"Dashboard Final Project - Books to Scrape\")\n",
        "\n",
        "# Pratinjau Data\n",
        "st.subheader(\"Pratinjau Data\")\n",
        "st.write(\"Berikut adalah beberapa data buku yang telah dikumpulkan dari website Books to Scrape:\")\n",
        "st.dataframe(books_df.head())"
      ],
      "metadata": {
        "colab": {
          "base_uri": "https://localhost:8080/"
        },
        "id": "cABFYivp3OBt",
        "outputId": "880fcb34-3185-4661-ff28-3e0cc355682b"
      },
      "execution_count": 57,
      "outputs": [
        {
          "output_type": "stream",
          "name": "stderr",
          "text": [
            "2024-12-19 07:48:15.888 Thread 'MainThread': missing ScriptRunContext! This warning can be ignored when running in bare mode.\n",
            "2024-12-19 07:48:15.892 Thread 'MainThread': missing ScriptRunContext! This warning can be ignored when running in bare mode.\n",
            "2024-12-19 07:48:15.894 Thread 'MainThread': missing ScriptRunContext! This warning can be ignored when running in bare mode.\n",
            "2024-12-19 07:48:15.896 Thread 'MainThread': missing ScriptRunContext! This warning can be ignored when running in bare mode.\n",
            "2024-12-19 07:48:15.897 Thread 'MainThread': missing ScriptRunContext! This warning can be ignored when running in bare mode.\n",
            "2024-12-19 07:48:15.902 Thread 'MainThread': missing ScriptRunContext! This warning can be ignored when running in bare mode.\n",
            "2024-12-19 07:48:15.903 Thread 'MainThread': missing ScriptRunContext! This warning can be ignored when running in bare mode.\n",
            "2024-12-19 07:48:15.904 Thread 'MainThread': missing ScriptRunContext! This warning can be ignored when running in bare mode.\n",
            "2024-12-19 07:48:15.905 Thread 'MainThread': missing ScriptRunContext! This warning can be ignored when running in bare mode.\n",
            "2024-12-19 07:48:15.909 Thread 'MainThread': missing ScriptRunContext! This warning can be ignored when running in bare mode.\n",
            "2024-12-19 07:48:15.926 Thread 'MainThread': missing ScriptRunContext! This warning can be ignored when running in bare mode.\n"
          ]
        },
        {
          "output_type": "execute_result",
          "data": {
            "text/plain": [
              "DeltaGenerator()"
            ]
          },
          "metadata": {},
          "execution_count": 57
        }
      ]
    },
    {
      "cell_type": "code",
      "source": [
        "# Skenario 1: Distribusi Harga Buku\n",
        "st.subheader(\"Skenario 1: Distribusi Harga Buku\")\n",
        "st.write(\"Grafik ini menunjukkan distribusi harga buku berdasarkan dataset yang telah dikumpulkan.\")\n",
        "fig1, ax1 = plt.subplots()\n",
        "sns.histplot(data=books_df, x='Price', bins=10, kde=True, ax=ax1, color='blue')\n",
        "ax1.set_title(\"Distribusi Harga Buku\", fontsize=16)\n",
        "ax1.set_xlabel(\"Harga Buku (£)\", fontsize=12)\n",
        "ax1.set_ylabel(\"Jumlah Buku\", fontsize=12)\n",
        "st.pyplot(fig1)"
      ],
      "metadata": {
        "colab": {
          "base_uri": "https://localhost:8080/"
        },
        "id": "SbWqyzH244u1",
        "outputId": "43921740-9912-4732-a057-ebf5805e85db"
      },
      "execution_count": 58,
      "outputs": [
        {
          "output_type": "stream",
          "name": "stderr",
          "text": [
            "2024-12-19 07:51:48.051 Thread 'MainThread': missing ScriptRunContext! This warning can be ignored when running in bare mode.\n",
            "2024-12-19 07:51:48.054 Thread 'MainThread': missing ScriptRunContext! This warning can be ignored when running in bare mode.\n",
            "2024-12-19 07:51:48.059 Thread 'MainThread': missing ScriptRunContext! This warning can be ignored when running in bare mode.\n",
            "2024-12-19 07:51:48.062 Thread 'MainThread': missing ScriptRunContext! This warning can be ignored when running in bare mode.\n",
            "2024-12-19 07:51:48.063 Thread 'MainThread': missing ScriptRunContext! This warning can be ignored when running in bare mode.\n",
            "2024-12-19 07:51:48.065 Thread 'MainThread': missing ScriptRunContext! This warning can be ignored when running in bare mode.\n",
            "2024-12-19 07:51:48.200 Thread 'MainThread': missing ScriptRunContext! This warning can be ignored when running in bare mode.\n",
            "2024-12-19 07:51:48.455 Thread 'MainThread': missing ScriptRunContext! This warning can be ignored when running in bare mode.\n",
            "2024-12-19 07:51:48.456 Thread 'MainThread': missing ScriptRunContext! This warning can be ignored when running in bare mode.\n"
          ]
        },
        {
          "output_type": "execute_result",
          "data": {
            "text/plain": [
              "DeltaGenerator()"
            ]
          },
          "metadata": {},
          "execution_count": 58
        }
      ]
    },
    {
      "cell_type": "code",
      "source": [
        "# Skenario 2: Jumlah Buku Berdasarkan Rating\n",
        "st.subheader(\"Skenario 2: Jumlah Buku Berdasarkan Rating\")\n",
        "st.write(\"Grafik ini menunjukkan jumlah buku untuk setiap rating yang tersedia.\")\n",
        "fig2, ax2 = plt.subplots()\n",
        "sns.countplot(data=books_df, x='Rating', order=books_df['Rating'].unique(), ax=ax2, palette=\"Set2\")\n",
        "ax2.set_title(\"Jumlah Buku Berdasarkan Rating\", fontsize=16)\n",
        "ax2.set_xlabel(\"Rating Buku\", fontsize=12)\n",
        "ax2.set_ylabel(\"Jumlah Buku\", fontsize=12)\n",
        "st.pyplot(fig2)"
      ],
      "metadata": {
        "colab": {
          "base_uri": "https://localhost:8080/"
        },
        "id": "n5nRXlKJ5mPo",
        "outputId": "7a6ffd2a-03a5-4164-a2ba-99622dd5dbe9"
      },
      "execution_count": 59,
      "outputs": [
        {
          "output_type": "stream",
          "name": "stderr",
          "text": [
            "2024-12-19 07:51:56.415 Thread 'MainThread': missing ScriptRunContext! This warning can be ignored when running in bare mode.\n",
            "2024-12-19 07:51:56.418 Thread 'MainThread': missing ScriptRunContext! This warning can be ignored when running in bare mode.\n",
            "2024-12-19 07:51:56.420 Thread 'MainThread': missing ScriptRunContext! This warning can be ignored when running in bare mode.\n",
            "2024-12-19 07:51:56.422 Thread 'MainThread': missing ScriptRunContext! This warning can be ignored when running in bare mode.\n",
            "2024-12-19 07:51:56.424 Thread 'MainThread': missing ScriptRunContext! This warning can be ignored when running in bare mode.\n",
            "2024-12-19 07:51:56.425 Thread 'MainThread': missing ScriptRunContext! This warning can be ignored when running in bare mode.\n",
            "<ipython-input-59-fd0c2e1c971d>:5: FutureWarning: \n",
            "\n",
            "Passing `palette` without assigning `hue` is deprecated and will be removed in v0.14.0. Assign the `x` variable to `hue` and set `legend=False` for the same effect.\n",
            "\n",
            "  sns.countplot(data=books_df, x='Rating', order=books_df['Rating'].unique(), ax=ax2, palette=\"Set2\")\n",
            "2024-12-19 07:51:56.512 Thread 'MainThread': missing ScriptRunContext! This warning can be ignored when running in bare mode.\n",
            "2024-12-19 07:51:56.791 Thread 'MainThread': missing ScriptRunContext! This warning can be ignored when running in bare mode.\n",
            "2024-12-19 07:51:56.793 Thread 'MainThread': missing ScriptRunContext! This warning can be ignored when running in bare mode.\n"
          ]
        },
        {
          "output_type": "execute_result",
          "data": {
            "text/plain": [
              "DeltaGenerator()"
            ]
          },
          "metadata": {},
          "execution_count": 59
        }
      ]
    },
    {
      "cell_type": "code",
      "source": [
        "# Skenario 3: Rata-rata Harga Berdasarkan Rating\n",
        "st.subheader(\"Skenario 3: Rata-rata Harga Berdasarkan Rating\")\n",
        "st.write(\"Grafik ini menunjukkan harga rata-rata buku untuk setiap rating.\")\n",
        "avg_price_by_rating = books_df.groupby('Rating')['Price'].mean().sort_values()\n",
        "fig3, ax3 = plt.subplots()\n",
        "avg_price_by_rating.plot(kind='bar', ax=ax3, color=\"green\")\n",
        "ax3.set_title(\"Rata-rata Harga Buku Berdasarkan Rating\", fontsize=16)\n",
        "ax3.set_xlabel(\"Rating Buku\", fontsize=12)\n",
        "ax3.set_ylabel(\"Harga Rata-rata (£)\", fontsize=12)\n",
        "st.pyplot(fig3)"
      ],
      "metadata": {
        "colab": {
          "base_uri": "https://localhost:8080/"
        },
        "id": "FesLxGdT5mF7",
        "outputId": "5037ed96-07a2-44f6-ba0d-cea975f7c31a"
      },
      "execution_count": 60,
      "outputs": [
        {
          "output_type": "stream",
          "name": "stderr",
          "text": [
            "2024-12-19 07:52:00.093 Thread 'MainThread': missing ScriptRunContext! This warning can be ignored when running in bare mode.\n",
            "2024-12-19 07:52:00.095 Thread 'MainThread': missing ScriptRunContext! This warning can be ignored when running in bare mode.\n",
            "2024-12-19 07:52:00.097 Thread 'MainThread': missing ScriptRunContext! This warning can be ignored when running in bare mode.\n",
            "2024-12-19 07:52:00.099 Thread 'MainThread': missing ScriptRunContext! This warning can be ignored when running in bare mode.\n",
            "2024-12-19 07:52:00.101 Thread 'MainThread': missing ScriptRunContext! This warning can be ignored when running in bare mode.\n",
            "2024-12-19 07:52:00.103 Thread 'MainThread': missing ScriptRunContext! This warning can be ignored when running in bare mode.\n",
            "2024-12-19 07:52:00.151 Thread 'MainThread': missing ScriptRunContext! This warning can be ignored when running in bare mode.\n",
            "2024-12-19 07:52:00.408 Thread 'MainThread': missing ScriptRunContext! This warning can be ignored when running in bare mode.\n",
            "2024-12-19 07:52:00.409 Thread 'MainThread': missing ScriptRunContext! This warning can be ignored when running in bare mode.\n"
          ]
        },
        {
          "output_type": "execute_result",
          "data": {
            "text/plain": [
              "DeltaGenerator()"
            ]
          },
          "metadata": {},
          "execution_count": 60
        }
      ]
    },
    {
      "cell_type": "code",
      "source": [
        "# Skenario 4: Ketersediaan Buku\n",
        "st.subheader(\"Skenario 4: Ketersediaan Buku\")\n",
        "st.write(\"Grafik ini menunjukkan proporsi ketersediaan buku ('In Stock' vs lainnya).\")\n",
        "availability_counts = books_df['Availability'].value_counts()\n",
        "fig4, ax4 = plt.subplots()\n",
        "availability_counts.plot(kind='pie', autopct='%1.1f%%', ax=ax4, colors=['lightgreen', 'orange'])\n",
        "ax4.set_title(\"Ketersediaan Buku\", fontsize=16)\n",
        "ax4.set_ylabel(\"\")  # Menghilangkan label default\n",
        "st.pyplot(fig4)"
      ],
      "metadata": {
        "colab": {
          "base_uri": "https://localhost:8080/"
        },
        "id": "-r1gaBDg5l5c",
        "outputId": "0690457d-48be-447f-ba31-78c99648be83"
      },
      "execution_count": 61,
      "outputs": [
        {
          "output_type": "stream",
          "name": "stderr",
          "text": [
            "2024-12-19 07:52:06.826 Thread 'MainThread': missing ScriptRunContext! This warning can be ignored when running in bare mode.\n",
            "2024-12-19 07:52:06.838 Thread 'MainThread': missing ScriptRunContext! This warning can be ignored when running in bare mode.\n",
            "2024-12-19 07:52:06.843 Thread 'MainThread': missing ScriptRunContext! This warning can be ignored when running in bare mode.\n",
            "2024-12-19 07:52:06.847 Thread 'MainThread': missing ScriptRunContext! This warning can be ignored when running in bare mode.\n",
            "2024-12-19 07:52:06.852 Thread 'MainThread': missing ScriptRunContext! This warning can be ignored when running in bare mode.\n",
            "2024-12-19 07:52:06.853 Thread 'MainThread': missing ScriptRunContext! This warning can be ignored when running in bare mode.\n",
            "2024-12-19 07:52:06.921 Thread 'MainThread': missing ScriptRunContext! This warning can be ignored when running in bare mode.\n",
            "2024-12-19 07:52:07.137 Thread 'MainThread': missing ScriptRunContext! This warning can be ignored when running in bare mode.\n",
            "2024-12-19 07:52:07.140 Thread 'MainThread': missing ScriptRunContext! This warning can be ignored when running in bare mode.\n"
          ]
        },
        {
          "output_type": "execute_result",
          "data": {
            "text/plain": [
              "DeltaGenerator()"
            ]
          },
          "metadata": {},
          "execution_count": 61
        }
      ]
    },
    {
      "cell_type": "markdown",
      "source": [
        "##Kesimpulan Umum:##\n",
        "- Harga buku di website \"Books to Scrape\" lebih banyak di kisaran menengah dengan sedikit buku yang sangat murah atau mahal.\n",
        "- Buku dengan rating tinggi (baik kualitasnya) memiliki korelasi dengan harga rata-rata yang lebih tinggi.\n",
        "- Mayoritas buku tersedia di stok, menunjukkan manajemen inventaris yang baik di platform ini.\n",
        "- Rating buku menunjukkan bias ke kualitas sedang hingga tinggi, yang kemungkinan merepresentasikan buku dengan popularitas tinggi atau relevan di pasar."
      ],
      "metadata": {
        "id": "T7uYCGw05_3q"
      }
    }
  ]
}